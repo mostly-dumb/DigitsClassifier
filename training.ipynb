{
 "cells": [
  {
   "cell_type": "code",
   "execution_count": 1,
   "metadata": {},
   "outputs": [
    {
     "name": "stderr",
     "output_type": "stream",
     "text": [
      "Using TensorFlow backend.\n"
     ]
    }
   ],
   "source": [
    "from keras.preprocessing import image\n",
    "from keras.models import Sequential\n",
    "from keras.layers import Dense,Activation,Dropout,Flatten\n",
    "from keras.layers.convolutional import Conv2D,MaxPooling2D\n",
    "from keras.layers.convolutional import MaxPooling2D"
   ]
  },
  {
   "cell_type": "code",
   "execution_count": 2,
   "metadata": {},
   "outputs": [
    {
     "name": "stdout",
     "output_type": "stream",
     "text": [
      "Found 1146 images belonging to 10 classes.\n"
     ]
    }
   ],
   "source": [
    "#Loading the images dataset\n",
    "\n",
    "train_datagen=image.ImageDataGenerator()\n",
    "train_generator = train_datagen.flow_from_directory(\n",
    "    directory=\"./dataset/\",\n",
    "    target_size=(102, 108),\n",
    "    color_mode=\"grayscale\",\n",
    "    batch_size=20,\n",
    "    class_mode=\"categorical\",\n",
    "    shuffle=True,\n",
    "    seed=42\n",
    ")"
   ]
  },
  {
   "cell_type": "code",
   "execution_count": 3,
   "metadata": {},
   "outputs": [
    {
     "data": {
      "text/plain": [
       "{'0': 0,\n",
       " '1': 1,\n",
       " '2': 2,\n",
       " '3': 3,\n",
       " '4': 4,\n",
       " '5': 5,\n",
       " '6': 6,\n",
       " '7': 7,\n",
       " '8': 8,\n",
       " '9': 9}"
      ]
     },
     "execution_count": 3,
     "metadata": {},
     "output_type": "execute_result"
    }
   ],
   "source": [
    "train_generator.class_indices"
   ]
  },
  {
   "cell_type": "code",
   "execution_count": 4,
   "metadata": {},
   "outputs": [],
   "source": [
    "model = Sequential()\n",
    "\n",
    "\n",
    "\n",
    "#Layer1\n",
    "model.add(Conv2D(32, (3, 3), input_shape=(102, 108, 1)))\n",
    "model.add(Activation('relu'))\n",
    "model.add(MaxPooling2D(pool_size=(2, 2)))\n",
    "\n",
    "\n",
    "#Layer2\n",
    "model.add(Conv2D(32, (3, 3)))\n",
    "model.add(Activation('relu'))\n",
    "model.add(MaxPooling2D(pool_size=(2, 2)))\n",
    "\n",
    "\n",
    "#Layer3\n",
    "model.add(Conv2D(64, (3, 3)))\n",
    "model.add(Activation('relu'))\n",
    "model.add(MaxPooling2D(pool_size=(2, 2)))\n",
    "\n",
    "#Fully Connected Layer\n",
    "model.add(Flatten())  # this converts our 3D feature maps to 1D feature vectors\n",
    "model.add(Dense(64))\n",
    "model.add(Activation('relu'))\n",
    "model.add(Dropout(0.5))\n",
    "model.add(Dense(10))\n",
    "model.add(Activation('sigmoid'))\n",
    "\n",
    "\n",
    "#Compiling model for multi-class Classification\n",
    "model.compile(loss='categorical_crossentropy',\n",
    "              optimizer='rmsprop',\n",
    "              metrics=['accuracy'])"
   ]
  },
  {
   "cell_type": "code",
   "execution_count": 5,
   "metadata": {},
   "outputs": [
    {
     "name": "stdout",
     "output_type": "stream",
     "text": [
      "Epoch 1/30\n",
      "100/100 [==============================] - 59s 593ms/step - loss: 6.0445 - acc: 0.1130\n",
      "Epoch 2/30\n",
      "100/100 [==============================] - 55s 554ms/step - loss: 2.2985 - acc: 0.4046\n",
      "Epoch 3/30\n",
      "100/100 [==============================] - 44s 443ms/step - loss: 0.8625 - acc: 0.7743\n",
      "Epoch 4/30\n",
      "100/100 [==============================] - 46s 463ms/step - loss: 0.5064 - acc: 0.8805\n",
      "Epoch 5/30\n",
      "100/100 [==============================] - 54s 544ms/step - loss: 0.3059 - acc: 0.9235\n",
      "Epoch 6/30\n",
      "100/100 [==============================] - 58s 581ms/step - loss: 0.2300 - acc: 0.9377\n",
      "Epoch 7/30\n",
      "100/100 [==============================] - 47s 471ms/step - loss: 0.2187 - acc: 0.9422\n",
      "Epoch 8/30\n",
      "100/100 [==============================] - 51s 508ms/step - loss: 0.1096 - acc: 0.9730\n",
      "Epoch 9/30\n",
      "100/100 [==============================] - 50s 503ms/step - loss: 0.1091 - acc: 0.9725\n",
      "Epoch 10/30\n",
      "100/100 [==============================] - 55s 546ms/step - loss: 0.1098 - acc: 0.9770\n",
      "Epoch 11/30\n",
      "100/100 [==============================] - 53s 529ms/step - loss: 0.0948 - acc: 0.9775\n",
      "Epoch 12/30\n",
      "100/100 [==============================] - 53s 526ms/step - loss: 0.0841 - acc: 0.9805\n",
      "Epoch 13/30\n",
      "100/100 [==============================] - 46s 460ms/step - loss: 0.0830 - acc: 0.9818\n",
      "Epoch 14/30\n",
      "100/100 [==============================] - 49s 493ms/step - loss: 0.0540 - acc: 0.9865\n",
      "Epoch 15/30\n",
      "100/100 [==============================] - 49s 488ms/step - loss: 0.0589 - acc: 0.9840\n",
      "Epoch 16/30\n",
      "100/100 [==============================] - 45s 451ms/step - loss: 0.0484 - acc: 0.9840\n",
      "Epoch 17/30\n",
      "100/100 [==============================] - 46s 455ms/step - loss: 0.0644 - acc: 0.9840\n",
      "Epoch 18/30\n",
      "100/100 [==============================] - 43s 429ms/step - loss: 0.0394 - acc: 0.9890\n",
      "Epoch 19/30\n",
      "100/100 [==============================] - 58s 581ms/step - loss: 0.0317 - acc: 0.9905\n",
      "Epoch 20/30\n",
      "100/100 [==============================] - 53s 528ms/step - loss: 0.0278 - acc: 0.9915\n",
      "Epoch 21/30\n",
      "100/100 [==============================] - 57s 568ms/step - loss: 0.0494 - acc: 0.9858\n",
      "Epoch 22/30\n",
      "100/100 [==============================] - 62s 619ms/step - loss: 0.0306 - acc: 0.9925\n",
      "Epoch 23/30\n",
      "100/100 [==============================] - 46s 457ms/step - loss: 0.0295 - acc: 0.9915\n",
      "Epoch 24/30\n",
      "100/100 [==============================] - 53s 534ms/step - loss: 0.0413 - acc: 0.9903\n",
      "Epoch 25/30\n",
      "100/100 [==============================] - 55s 551ms/step - loss: 0.0361 - acc: 0.9890\n",
      "Epoch 26/30\n",
      "100/100 [==============================] - 57s 573ms/step - loss: 0.0326 - acc: 0.9935\n",
      "Epoch 27/30\n",
      "100/100 [==============================] - 55s 548ms/step - loss: 0.0286 - acc: 0.9920\n",
      "Epoch 28/30\n",
      "100/100 [==============================] - 56s 559ms/step - loss: 0.0537 - acc: 0.9910\n",
      "Epoch 29/30\n",
      "100/100 [==============================] - 57s 566ms/step - loss: 0.0259 - acc: 0.9930\n",
      "Epoch 30/30\n",
      "100/100 [==============================] - 57s 569ms/step - loss: 0.0298 - acc: 0.9940\n"
     ]
    },
    {
     "data": {
      "text/plain": [
       "<keras.callbacks.History at 0x11d961898>"
      ]
     },
     "execution_count": 5,
     "metadata": {},
     "output_type": "execute_result"
    }
   ],
   "source": [
    "model.fit_generator(\n",
    "        train_generator,\n",
    "        steps_per_epoch=2000 // 20,\n",
    "        epochs=30)"
   ]
  },
  {
   "cell_type": "code",
   "execution_count": 6,
   "metadata": {},
   "outputs": [],
   "source": [
    "model.save_weights('model-data/weights.h5','rw')\n",
    "model.save('model-data/summary.h5','rw')"
   ]
  },
  {
   "cell_type": "code",
   "execution_count": 10,
   "metadata": {},
   "outputs": [
    {
     "data": {
      "text/plain": [
       "[<tf.Tensor 'conv2d_1_input:0' shape=(?, 102, 108, 1) dtype=float32>]"
      ]
     },
     "execution_count": 10,
     "metadata": {},
     "output_type": "execute_result"
    }
   ],
   "source": [
    "model.inputs"
   ]
  },
  {
   "cell_type": "code",
   "execution_count": 11,
   "metadata": {},
   "outputs": [
    {
     "data": {
      "text/plain": [
       "[<tf.Tensor 'activation_5/Sigmoid:0' shape=(?, 10) dtype=float32>]"
      ]
     },
     "execution_count": 11,
     "metadata": {},
     "output_type": "execute_result"
    }
   ],
   "source": [
    "model.outputs"
   ]
  },
  {
   "cell_type": "code",
   "execution_count": 12,
   "metadata": {},
   "outputs": [
    {
     "name": "stdout",
     "output_type": "stream",
     "text": [
      "[None, 100, 106, 32]\n",
      "[None, 100, 106, 32]\n",
      "[None, 50, 53, 32]\n",
      "[None, 48, 51, 32]\n",
      "[None, 48, 51, 32]\n",
      "[None, 24, 25, 32]\n",
      "[None, 22, 23, 64]\n",
      "[None, 22, 23, 64]\n",
      "[None, 11, 11, 64]\n",
      "[None, None]\n",
      "[None, 64]\n",
      "[None, 64]\n",
      "[None, 64]\n",
      "[None, 10]\n",
      "[None, 10]\n"
     ]
    }
   ],
   "source": [
    "for layer in model.layers:\n",
    "    print(layer.get_output_at(0).get_shape().as_list())"
   ]
  }
 ],
 "metadata": {
  "kernelspec": {
   "display_name": "Python 3",
   "language": "python",
   "name": "python3"
  },
  "language_info": {
   "codemirror_mode": {
    "name": "ipython",
    "version": 3
   },
   "file_extension": ".py",
   "mimetype": "text/x-python",
   "name": "python",
   "nbconvert_exporter": "python",
   "pygments_lexer": "ipython3",
   "version": "3.6.6"
  }
 },
 "nbformat": 4,
 "nbformat_minor": 2
}
